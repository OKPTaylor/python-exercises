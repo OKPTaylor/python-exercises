{
 "cells": [
  {
   "cell_type": "code",
   "execution_count": 1,
   "id": "b6048412",
   "metadata": {},
   "outputs": [],
   "source": [
    "greeting = \"hello world\"\n"
   ]
  },
  {
   "cell_type": "code",
   "execution_count": 5,
   "id": "1a16257c",
   "metadata": {},
   "outputs": [
    {
     "name": "stdout",
     "output_type": "stream",
     "text": [
      "hello world\n"
     ]
    }
   ],
   "source": [
    "print(greeting)\n",
    "\n"
   ]
  },
  {
   "cell_type": "code",
   "execution_count": null,
   "id": "a10ec938",
   "metadata": {},
   "outputs": [],
   "source": [
    "print(greeting)\n",
    "\n"
   ]
  },
  {
   "cell_type": "code",
   "execution_count": 7,
   "id": "535a31bf",
   "metadata": {},
   "outputs": [],
   "source": [
    "hotKeys = \"command s for save, command c,x,v for the usual copy, cut, paste, use ESC to enter command mode and use: c,x,v to copy,cut paste, cells. H for show shortcuts. z to undo. RETURN enters command mode COMMAND z to undo.\""
   ]
  },
  {
   "cell_type": "code",
   "execution_count": 8,
   "id": "30d50b6c",
   "metadata": {},
   "outputs": [
    {
     "name": "stdout",
     "output_type": "stream",
     "text": [
      "command s for save, command c,x,v for the usual copy, cut, paste, use ESC to enter command mode and use: c,x,v to copy,cut paste, cells. H for show shortcuts. z to undo. RETURN enters command mode COMMAND z to undo.\n"
     ]
    }
   ],
   "source": [
    "print(hotKeys)"
   ]
  },
  {
   "cell_type": "markdown",
   "id": "c073ceba",
   "metadata": {},
   "source": [
    "# Python Data Types"
   ]
  },
  {
   "cell_type": "markdown",
   "id": "c3a5155e",
   "metadata": {},
   "source": [
    "## Notes"
   ]
  },
  {
   "cell_type": "code",
   "execution_count": 2,
   "id": "622553b0",
   "metadata": {},
   "outputs": [
    {
     "data": {
      "text/plain": [
       "True"
      ]
     },
     "execution_count": 2,
     "metadata": {},
     "output_type": "execute_result"
    }
   ],
   "source": [
    "True"
   ]
  },
  {
   "cell_type": "code",
   "execution_count": 5,
   "id": "657868d3",
   "metadata": {},
   "outputs": [
    {
     "data": {
      "text/plain": [
       "False"
      ]
     },
     "execution_count": 5,
     "metadata": {},
     "output_type": "execute_result"
    }
   ],
   "source": [
    "False"
   ]
  },
  {
   "cell_type": "code",
   "execution_count": 6,
   "id": "4dbbf980",
   "metadata": {},
   "outputs": [
    {
     "data": {
      "text/plain": [
       "False"
      ]
     },
     "execution_count": 6,
     "metadata": {},
     "output_type": "execute_result"
    }
   ],
   "source": [
    "not True"
   ]
  },
  {
   "cell_type": "code",
   "execution_count": 7,
   "id": "e44785cf",
   "metadata": {},
   "outputs": [
    {
     "data": {
      "text/plain": [
       "False"
      ]
     },
     "execution_count": 7,
     "metadata": {},
     "output_type": "execute_result"
    }
   ],
   "source": [
    "False == True "
   ]
  },
  {
   "cell_type": "code",
   "execution_count": 9,
   "id": "63ae9d69",
   "metadata": {},
   "outputs": [
    {
     "data": {
      "text/plain": [
       "'abf cdg'"
      ]
     },
     "execution_count": 9,
     "metadata": {},
     "output_type": "execute_result"
    }
   ],
   "source": [
    "'abf' + ' ' + \"cdg\""
   ]
  },
  {
   "cell_type": "code",
   "execution_count": 16,
   "id": "3744ea62",
   "metadata": {},
   "outputs": [
    {
     "name": "stdout",
     "output_type": "stream",
     "text": [
      "Enter your number:9\n"
     ]
    }
   ],
   "source": [
    "my_response = input(\"Enter your number: \")"
   ]
  },
  {
   "cell_type": "code",
   "execution_count": 17,
   "id": "34927639",
   "metadata": {},
   "outputs": [
    {
     "data": {
      "text/plain": [
       "'9'"
      ]
     },
     "execution_count": 17,
     "metadata": {},
     "output_type": "execute_result"
    }
   ],
   "source": [
    "my_response"
   ]
  },
  {
   "cell_type": "code",
   "execution_count": 18,
   "id": "fe175e72",
   "metadata": {},
   "outputs": [],
   "source": [
    "name = \"Oliver\""
   ]
  },
  {
   "cell_type": "code",
   "execution_count": 19,
   "id": "3ee824cc",
   "metadata": {},
   "outputs": [
    {
     "name": "stdout",
     "output_type": "stream",
     "text": [
      "Oliver\n"
     ]
    }
   ],
   "source": [
    "print(name)"
   ]
  },
  {
   "cell_type": "code",
   "execution_count": 20,
   "id": "bc06430e",
   "metadata": {},
   "outputs": [
    {
     "data": {
      "text/plain": [
       "'Hello Oliver'"
      ]
     },
     "execution_count": 20,
     "metadata": {},
     "output_type": "execute_result"
    }
   ],
   "source": [
    "\"Hello %s\" %name"
   ]
  },
  {
   "cell_type": "code",
   "execution_count": 21,
   "id": "4ad66fc8",
   "metadata": {},
   "outputs": [
    {
     "data": {
      "text/plain": [
       "'Hello Oliver'"
      ]
     },
     "execution_count": 21,
     "metadata": {},
     "output_type": "execute_result"
    }
   ],
   "source": [
    "f\"Hello {name}\""
   ]
  },
  {
   "cell_type": "markdown",
   "id": "bac1dade",
   "metadata": {},
   "source": [
    "This also works for math"
   ]
  },
  {
   "cell_type": "code",
   "execution_count": 23,
   "id": "d836a0a6",
   "metadata": {},
   "outputs": [
    {
     "data": {
      "text/plain": [
       "'Hello Oliver2'"
      ]
     },
     "execution_count": 23,
     "metadata": {},
     "output_type": "execute_result"
    }
   ],
   "source": [
    "f\"Hello {name}{1+1}\""
   ]
  },
  {
   "cell_type": "markdown",
   "id": "93f90725",
   "metadata": {},
   "source": [
    "checking for digit charS (ASCII)"
   ]
  },
  {
   "cell_type": "code",
   "execution_count": 24,
   "id": "92c149d6",
   "metadata": {},
   "outputs": [
    {
     "data": {
      "text/plain": [
       "True"
      ]
     },
     "execution_count": 24,
     "metadata": {},
     "output_type": "execute_result"
    }
   ],
   "source": [
    "\"1234\".isdigit()"
   ]
  },
  {
   "cell_type": "code",
   "execution_count": 25,
   "id": "2d9b7032",
   "metadata": {},
   "outputs": [
    {
     "data": {
      "text/plain": [
       "False"
      ]
     },
     "execution_count": 25,
     "metadata": {},
     "output_type": "execute_result"
    }
   ],
   "source": [
    "\"AA13232\".isdigit()"
   ]
  },
  {
   "cell_type": "markdown",
   "id": "41f8885a",
   "metadata": {},
   "source": [
    "There are other .is functions"
   ]
  },
  {
   "cell_type": "markdown",
   "id": "872e0e55",
   "metadata": {},
   "source": [
    "Spliting strings and puts them into a list: by default the following splits on spaces"
   ]
  },
  {
   "cell_type": "code",
   "execution_count": 26,
   "id": "326795de",
   "metadata": {},
   "outputs": [
    {
     "data": {
      "text/plain": [
       "['Hello', 'Bob']"
      ]
     },
     "execution_count": 26,
     "metadata": {},
     "output_type": "execute_result"
    }
   ],
   "source": [
    "\"Hello Bob\".split()"
   ]
  },
  {
   "cell_type": "markdown",
   "id": "8354200b",
   "metadata": {},
   "source": [
    "You can split on different things: .split(\",\") to split on the comma "
   ]
  },
  {
   "cell_type": "code",
   "execution_count": 32,
   "id": "7416938b",
   "metadata": {},
   "outputs": [],
   "source": [
    "trash = \"sdfsdfsfsdfsdf\".split('d')"
   ]
  },
  {
   "cell_type": "code",
   "execution_count": 33,
   "id": "b55c05cd",
   "metadata": {},
   "outputs": [
    {
     "data": {
      "text/plain": [
       "['s', 'fs', 'fsfs', 'fs', 'f']"
      ]
     },
     "execution_count": 33,
     "metadata": {},
     "output_type": "execute_result"
    }
   ],
   "source": [
    "trash"
   ]
  },
  {
   "cell_type": "markdown",
   "id": "a19c3a28",
   "metadata": {},
   "source": [
    "To replace"
   ]
  },
  {
   "cell_type": "code",
   "execution_count": 31,
   "id": "044d59ca",
   "metadata": {},
   "outputs": [
    {
     "data": {
      "text/plain": [
       "'hello world'"
      ]
     },
     "execution_count": 31,
     "metadata": {},
     "output_type": "execute_result"
    }
   ],
   "source": [
    "\"hello bob\".replace(\"bob\", \"world\")"
   ]
  },
  {
   "cell_type": "markdown",
   "id": "e815643c",
   "metadata": {},
   "source": [
    "To join"
   ]
  },
  {
   "cell_type": "code",
   "execution_count": 34,
   "id": "402d1453",
   "metadata": {},
   "outputs": [
    {
     "data": {
      "text/plain": [
       "'s fs fsfs fs f'"
      ]
     },
     "execution_count": 34,
     "metadata": {},
     "output_type": "execute_result"
    }
   ],
   "source": [
    "\" \".join(trash)"
   ]
  },
  {
   "cell_type": "markdown",
   "id": "82ccacf5",
   "metadata": {},
   "source": [
    "to convert a list to a list of strings "
   ]
  },
  {
   "cell_type": "code",
   "execution_count": 35,
   "id": "5da53206",
   "metadata": {},
   "outputs": [
    {
     "data": {
      "text/plain": [
       "['1', '2', '3']"
      ]
     },
     "execution_count": 35,
     "metadata": {},
     "output_type": "execute_result"
    }
   ],
   "source": [
    "list(map(str, [1,2,3]))"
   ]
  },
  {
   "cell_type": "code",
   "execution_count": null,
   "id": "33b67b9e",
   "metadata": {},
   "outputs": [],
   "source": []
  }
 ],
 "metadata": {
  "kernelspec": {
   "display_name": "Python 3",
   "language": "python",
   "name": "python3"
  },
  "language_info": {
   "codemirror_mode": {
    "name": "ipython",
    "version": 3
   },
   "file_extension": ".py",
   "mimetype": "text/x-python",
   "name": "python",
   "nbconvert_exporter": "python",
   "pygments_lexer": "ipython3",
   "version": "3.8.8"
  }
 },
 "nbformat": 4,
 "nbformat_minor": 5
}
