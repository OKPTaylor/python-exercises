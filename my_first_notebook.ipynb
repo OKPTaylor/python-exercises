{
 "cells": [
  {
   "cell_type": "code",
   "execution_count": 1,
   "id": "b6048412",
   "metadata": {},
   "outputs": [],
   "source": [
    "greeting = \"hello world\"\n"
   ]
  },
  {
   "cell_type": "code",
   "execution_count": 5,
   "id": "1a16257c",
   "metadata": {},
   "outputs": [
    {
     "name": "stdout",
     "output_type": "stream",
     "text": [
      "hello world\n"
     ]
    }
   ],
   "source": [
    "print(greeting)\n",
    "\n"
   ]
  },
  {
   "cell_type": "code",
   "execution_count": null,
   "id": "a10ec938",
   "metadata": {},
   "outputs": [],
   "source": [
    "print(greeting)\n",
    "\n"
   ]
  },
  {
   "cell_type": "code",
   "execution_count": 7,
   "id": "535a31bf",
   "metadata": {},
   "outputs": [],
   "source": [
    "hotKeys = \"command s for save, command c,x,v for the usual copy, cut, paste, use ESC to enter command mode and use: c,x,v to copy,cut paste, cells. H for show shortcuts. z to undo. RETURN enters command mode COMMAND z to undo.\""
   ]
  },
  {
   "cell_type": "code",
   "execution_count": 8,
   "id": "30d50b6c",
   "metadata": {},
   "outputs": [
    {
     "name": "stdout",
     "output_type": "stream",
     "text": [
      "command s for save, command c,x,v for the usual copy, cut, paste, use ESC to enter command mode and use: c,x,v to copy,cut paste, cells. H for show shortcuts. z to undo. RETURN enters command mode COMMAND z to undo.\n"
     ]
    }
   ],
   "source": [
    "print(hotKeys)"
   ]
  },
  {
   "cell_type": "code",
   "execution_count": null,
   "id": "782f29b6",
   "metadata": {},
   "outputs": [],
   "source": []
  }
 ],
 "metadata": {
  "kernelspec": {
   "display_name": "Python 3",
   "language": "python",
   "name": "python3"
  },
  "language_info": {
   "codemirror_mode": {
    "name": "ipython",
    "version": 3
   },
   "file_extension": ".py",
   "mimetype": "text/x-python",
   "name": "python",
   "nbconvert_exporter": "python",
   "pygments_lexer": "ipython3",
   "version": "3.8.8"
  }
 },
 "nbformat": 4,
 "nbformat_minor": 5
}
