{
 "cells": [
  {
   "cell_type": "code",
   "execution_count": 135,
   "metadata": {},
   "outputs": [],
   "source": [
    "#1. a. and b."
   ]
  },
  {
   "cell_type": "code",
   "execution_count": 172,
   "metadata": {},
   "outputs": [
    {
     "name": "stdout",
     "output_type": "stream",
     "text": [
      "The day is a weekday\n"
     ]
    }
   ],
   "source": [
    "\n",
    "\n",
    "dayOfWeek = input(\"Please enter the day of the week: \")\n",
    "\n",
    "\n",
    "def weekOrWeekend(dayOfWeek):\n",
    "    \n",
    "    if dayOfWeek == \"monday\":\n",
    "        print(\"Today is Monday and it is a weekday.\")\n",
    "    elif dayOfWeek == \"tuesday\":\n",
    "        print(\"The day is a weekday.\")  \n",
    "    elif dayOfWeek == \"wed\":\n",
    "        print(\"The day is a weekday\")\n",
    "    elif dayOfWeek == \"thursday\":\n",
    "        print(\"The day is a weekday\")\n",
    "    elif dayOfWeek == \"friday\":\n",
    "        print(\"The day is a weekday\")              \n",
    "    else:\n",
    "        print(\"It's the weekend!\")    \n",
    "\n",
    "weekOrWeekend(dayOfWeek)\n",
    "\n",
    "#better way to do it: is make a list and use if x in y format"
   ]
  },
  {
   "cell_type": "code",
   "execution_count": null,
   "metadata": {},
   "outputs": [],
   "source": [
    "# 1c."
   ]
  },
  {
   "cell_type": "code",
   "execution_count": 175,
   "metadata": {},
   "outputs": [],
   "source": [
    "hoursWorked = 41\n",
    "hourlyRate = 10"
   ]
  },
  {
   "cell_type": "code",
   "execution_count": 176,
   "metadata": {},
   "outputs": [
    {
     "name": "stdout",
     "output_type": "stream",
     "text": [
      "415.0\n"
     ]
    }
   ],
   "source": [
    "if hoursWorked <= 40:\n",
    "    weeklyPay = hoursWorked * hourlyRate\n",
    "    print(weeklyPay)\n",
    "else: \n",
    "    hoursWorked > 40\n",
    "    weeklyPay = (40 * hourlyRate) + ((hoursWorked - 40) * (hourlyRate  * 1.5))\n",
    "    print(weeklyPay)\n"
   ]
  },
  {
   "cell_type": "code",
   "execution_count": null,
   "metadata": {},
   "outputs": [],
   "source": [
    "#2.a."
   ]
  },
  {
   "cell_type": "code",
   "execution_count": 177,
   "metadata": {},
   "outputs": [],
   "source": [
    "i = 5\n"
   ]
  },
  {
   "cell_type": "code",
   "execution_count": 178,
   "metadata": {},
   "outputs": [
    {
     "name": "stdout",
     "output_type": "stream",
     "text": [
      "5\n",
      "6\n",
      "7\n",
      "8\n",
      "9\n",
      "10\n",
      "11\n",
      "12\n",
      "13\n",
      "14\n",
      "15\n"
     ]
    }
   ],
   "source": [
    "while i <= 15 : \n",
    "    print(i)\n",
    "    i = i + 1\n",
    "\n",
    "# i += 1 is the shorthand for i = i +1"
   ]
  },
  {
   "cell_type": "code",
   "execution_count": 17,
   "metadata": {},
   "outputs": [],
   "source": [
    "#2.a.i"
   ]
  },
  {
   "cell_type": "code",
   "execution_count": 21,
   "metadata": {},
   "outputs": [],
   "source": [
    "i = 0"
   ]
  },
  {
   "cell_type": "code",
   "execution_count": 19,
   "metadata": {},
   "outputs": [
    {
     "name": "stdout",
     "output_type": "stream",
     "text": [
      "0\n",
      "2\n",
      "4\n",
      "6\n",
      "8\n",
      "10\n",
      "12\n",
      "14\n",
      "16\n",
      "18\n",
      "20\n",
      "22\n",
      "24\n",
      "26\n",
      "28\n",
      "30\n",
      "32\n",
      "34\n",
      "36\n",
      "38\n",
      "40\n",
      "42\n",
      "44\n",
      "46\n",
      "48\n",
      "50\n",
      "52\n",
      "54\n",
      "56\n",
      "58\n",
      "60\n",
      "62\n",
      "64\n",
      "66\n",
      "68\n",
      "70\n",
      "72\n",
      "74\n",
      "76\n",
      "78\n",
      "80\n",
      "82\n",
      "84\n",
      "86\n",
      "88\n",
      "90\n",
      "92\n",
      "94\n",
      "96\n",
      "98\n",
      "100\n"
     ]
    }
   ],
   "source": [
    "while i <= 100 : \n",
    "    print(i)\n",
    "    i = i + 2\n"
   ]
  },
  {
   "cell_type": "code",
   "execution_count": null,
   "metadata": {},
   "outputs": [],
   "source": [
    "#2.a.ii"
   ]
  },
  {
   "cell_type": "code",
   "execution_count": 22,
   "metadata": {},
   "outputs": [],
   "source": [
    "i = 2"
   ]
  },
  {
   "cell_type": "code",
   "execution_count": 23,
   "metadata": {},
   "outputs": [
    {
     "name": "stdout",
     "output_type": "stream",
     "text": [
      "2\n",
      "4\n",
      "16\n",
      "256\n",
      "65536\n"
     ]
    }
   ],
   "source": [
    "while i <= 1000000 : \n",
    "    print(i)\n",
    "    i = i ** 2\n"
   ]
  },
  {
   "cell_type": "code",
   "execution_count": 24,
   "metadata": {},
   "outputs": [],
   "source": [
    "i = 100"
   ]
  },
  {
   "cell_type": "code",
   "execution_count": 25,
   "metadata": {},
   "outputs": [
    {
     "name": "stdout",
     "output_type": "stream",
     "text": [
      "100\n",
      "95\n",
      "90\n",
      "85\n",
      "80\n",
      "75\n",
      "70\n",
      "65\n",
      "60\n",
      "55\n",
      "50\n",
      "45\n",
      "40\n",
      "35\n",
      "30\n",
      "25\n",
      "20\n",
      "15\n",
      "10\n",
      "5\n"
     ]
    }
   ],
   "source": [
    "while i >= 5 : \n",
    "    print(i)\n",
    "    i = i - 5\n"
   ]
  },
  {
   "cell_type": "code",
   "execution_count": null,
   "metadata": {},
   "outputs": [],
   "source": [
    "# 2.b."
   ]
  },
  {
   "cell_type": "code",
   "execution_count": 26,
   "metadata": {},
   "outputs": [],
   "source": [
    "table = [1, 2, 3, 4, 5, 6, 7, 8, 9, 10]"
   ]
  },
  {
   "cell_type": "code",
   "execution_count": 139,
   "metadata": {},
   "outputs": [
    {
     "name": "stdout",
     "output_type": "stream",
     "text": [
      "7 x 1 = 7\n",
      "7 x 2 = 14\n",
      "7 x 3 = 21\n",
      "7 x 4 = 28\n",
      "7 x 5 = 35\n",
      "7 x 6 = 42\n",
      "7 x 7 = 49\n",
      "7 x 8 = 56\n",
      "7 x 9 = 63\n",
      "7 x 10 = 70\n"
     ]
    }
   ],
   "source": [
    "for x in table:\n",
    "    output = x * 7\n",
    "    yourNumber = \"7 x {} = {}\" \n",
    "    print(yourNumber.format(x, output))"
   ]
  },
  {
   "cell_type": "code",
   "execution_count": null,
   "metadata": {},
   "outputs": [],
   "source": [
    "#2b.ii"
   ]
  },
  {
   "cell_type": "code",
   "execution_count": 41,
   "metadata": {},
   "outputs": [],
   "source": [
    "list = [1, 11, 111, 1111, 11111, 111111, 1111111, 11111111, 111111111]\n",
    "i = 0"
   ]
  },
  {
   "cell_type": "code",
   "execution_count": 42,
   "metadata": {},
   "outputs": [
    {
     "name": "stdout",
     "output_type": "stream",
     "text": [
      "1\n",
      "22\n",
      "333\n",
      "4444\n",
      "55555\n",
      "666666\n",
      "7777777\n",
      "88888888\n",
      "999999999\n"
     ]
    }
   ],
   "source": [
    "for x in list:\n",
    "    i = i + 1\n",
    "    print(i * x)"
   ]
  },
  {
   "cell_type": "code",
   "execution_count": null,
   "metadata": {},
   "outputs": [],
   "source": []
  },
  {
   "cell_type": "code",
   "execution_count": null,
   "metadata": {},
   "outputs": [],
   "source": [
    "#2c.i"
   ]
  },
  {
   "cell_type": "code",
   "execution_count": 147,
   "metadata": {},
   "outputs": [
    {
     "name": "stdout",
     "output_type": "stream",
     "text": [
      "Please try again.\n"
     ]
    }
   ],
   "source": [
    "userNumber = -1\n",
    "while int(userNumber) < 0:\n",
    "    \n",
    "    userNumber = input(\"Please enter your positive number:\")\n",
    "    if int(userNumber) < 0:\n",
    "        print(\"Please try again.\")\n",
    "    "
   ]
  },
  {
   "cell_type": "code",
   "execution_count": 148,
   "metadata": {},
   "outputs": [
    {
     "name": "stdout",
     "output_type": "stream",
     "text": [
      "5\n",
      "4\n",
      "3\n",
      "2\n",
      "1\n"
     ]
    }
   ],
   "source": [
    "print (userNumber)\n",
    "while int(userNumber) >= 1: \n",
    "    userNumber = int(userNumber) - 1\n",
    "    print(userNumber)\n",
    "    if userNumber == 1:\n",
    "        break\n",
    "   "
   ]
  },
  {
   "cell_type": "code",
   "execution_count": null,
   "metadata": {},
   "outputs": [],
   "source": [
    "#2c.ii"
   ]
  },
  {
   "cell_type": "code",
   "execution_count": 57,
   "metadata": {},
   "outputs": [
    {
     "name": "stdout",
     "output_type": "stream",
     "text": [
      "0\n",
      "1\n",
      "2\n",
      "3\n",
      "4\n",
      "5\n",
      "6\n"
     ]
    }
   ],
   "source": [
    "x = 0\n",
    "print (x)\n",
    "while x != int(userNumber): \n",
    "    x = x+1\n",
    "    print(x)\n",
    "    "
   ]
  },
  {
   "cell_type": "code",
   "execution_count": null,
   "metadata": {},
   "outputs": [],
   "source": [
    "#2c.iii"
   ]
  },
  {
   "cell_type": "code",
   "execution_count": 150,
   "metadata": {},
   "outputs": [],
   "source": [
    "userNumber = input(\"Please enter your number:\")"
   ]
  },
  {
   "cell_type": "code",
   "execution_count": 152,
   "metadata": {},
   "outputs": [
    {
     "name": "stdout",
     "output_type": "stream",
     "text": [
      "Here is an odd number : 3\n",
      "Here is an odd number : 5\n",
      "Here is an odd number : 7\n",
      "Here is an odd number : 9\n",
      "Skipping 11\n",
      "Here is an odd number : 13\n",
      "Here is an odd number : 15\n",
      "Here is an odd number : 17\n",
      "Here is an odd number : 19\n",
      "Here is an odd number : 21\n",
      "Here is an odd number : 23\n",
      "Here is an odd number : 25\n",
      "Here is an odd number : 27\n",
      "Here is an odd number : 29\n",
      "Here is an odd number : 31\n",
      "Here is an odd number : 33\n",
      "Here is an odd number : 35\n",
      "Here is an odd number : 37\n",
      "Here is an odd number : 39\n",
      "Here is an odd number : 41\n",
      "Here is an odd number : 43\n",
      "Here is an odd number : 45\n",
      "Here is an odd number : 47\n",
      "Here is an odd number : 49\n"
     ]
    }
   ],
   "source": [
    "i = 1\n",
    "while i != 49:\n",
    "    i = i + 2\n",
    "    \n",
    "    if i == int(userNumber):\n",
    "        print(\"Skipping %u\" %int(userNumber))\n",
    "        continue \n",
    "    print (\"Here is an odd number : %i\" %i)   \n",
    "        \n",
    "   "
   ]
  },
  {
   "cell_type": "code",
   "execution_count": null,
   "metadata": {},
   "outputs": [],
   "source": [
    "#3 Fizzbuzz"
   ]
  },
  {
   "cell_type": "code",
   "execution_count": 160,
   "metadata": {},
   "outputs": [
    {
     "name": "stdout",
     "output_type": "stream",
     "text": [
      "2\n",
      "Fizz\n",
      "4\n",
      "Buzz\n",
      "Fizz\n",
      "7\n",
      "8\n",
      "Fizz\n",
      "Buzz\n",
      "11\n",
      "Fizz\n",
      "13\n",
      "14\n",
      "FizzBuzz\n",
      "16\n",
      "17\n",
      "Fizz\n",
      "19\n",
      "Buzz\n",
      "Fizz\n",
      "22\n",
      "23\n",
      "Fizz\n",
      "Buzz\n",
      "26\n",
      "Fizz\n",
      "28\n",
      "29\n",
      "FizzBuzz\n",
      "31\n",
      "32\n",
      "Fizz\n",
      "34\n",
      "Buzz\n",
      "Fizz\n",
      "37\n",
      "38\n",
      "Fizz\n",
      "Buzz\n",
      "41\n",
      "Fizz\n",
      "43\n",
      "44\n",
      "FizzBuzz\n",
      "46\n",
      "47\n",
      "Fizz\n",
      "49\n",
      "Buzz\n",
      "Fizz\n",
      "52\n",
      "53\n",
      "Fizz\n",
      "Buzz\n",
      "56\n",
      "Fizz\n",
      "58\n",
      "59\n",
      "FizzBuzz\n",
      "61\n",
      "62\n",
      "Fizz\n",
      "64\n",
      "Buzz\n",
      "Fizz\n",
      "67\n",
      "68\n",
      "Fizz\n",
      "Buzz\n",
      "71\n",
      "Fizz\n",
      "73\n",
      "74\n",
      "FizzBuzz\n",
      "76\n",
      "77\n",
      "Fizz\n",
      "79\n",
      "Buzz\n",
      "Fizz\n",
      "82\n",
      "83\n",
      "Fizz\n",
      "Buzz\n",
      "86\n",
      "Fizz\n",
      "88\n",
      "89\n",
      "FizzBuzz\n",
      "91\n",
      "92\n",
      "Fizz\n",
      "94\n",
      "Buzz\n",
      "Fizz\n",
      "97\n",
      "98\n",
      "Fizz\n",
      "Buzz\n"
     ]
    }
   ],
   "source": [
    "i = 1\n",
    "while i != 100:\n",
    "    i = i + 1\n",
    "    numberDivisableBy3 = i%3\n",
    "    numberDivisableBy5 = i%5 \n",
    "    numberDivisableBy3and5 = i%15\n",
    "    if numberDivisableBy3and5 == 0:\n",
    "        print(\"FizzBuzz\")\n",
    "        continue\n",
    "\n",
    "   \n",
    "    if numberDivisableBy3 == 0:\n",
    "        print(\"Fizz\")\n",
    "        continue \n",
    "    if numberDivisableBy5 == 0:\n",
    "        print(\"Buzz\")\n",
    "        continue\n",
    "\n",
    "    print (i)   \n",
    "        "
   ]
  },
  {
   "cell_type": "code",
   "execution_count": null,
   "metadata": {},
   "outputs": [],
   "source": [
    "#4"
   ]
  },
  {
   "cell_type": "code",
   "execution_count": 153,
   "metadata": {},
   "outputs": [],
   "source": [
    "userNumber = input(\"Please enter your number:\")"
   ]
  },
  {
   "cell_type": "code",
   "execution_count": 162,
   "metadata": {},
   "outputs": [
    {
     "name": "stdout",
     "output_type": "stream",
     "text": [
      "Here is your table! \n",
      "number | squared | cubed \n",
      "_ _ _  | _ _ _ _ | _ _ _ _\n",
      "1      |1        |1      \n",
      "\n",
      "2      |4        |8      \n",
      "\n",
      "3      |9        |27      \n",
      "\n",
      "4      |16        |64      \n",
      "\n",
      "5      |25        |125      \n",
      "\n"
     ]
    }
   ],
   "source": [
    "i = 0\n",
    "x = 0\n",
    "w = 0\n",
    "print(\"Here is your table! \\nnumber | squared | cubed \\n_ _ _  | _ _ _ _ | _ _ _ _\")\n",
    "while i < int(userNumber):\n",
    "    i = i + 1\n",
    "    x = i\n",
    "    w = i\n",
    "    x = x * x\n",
    "    w = w * w * w\n",
    "    youriNumber = \"{}      |{}        |{}      \\n\"\n",
    "    print(youriNumber.format(i, x, w))\n",
    "   \n",
    "\n"
   ]
  }
 ],
 "metadata": {
  "kernelspec": {
   "display_name": "Python 3",
   "language": "python",
   "name": "python3"
  },
  "language_info": {
   "codemirror_mode": {
    "name": "ipython",
    "version": 3
   },
   "file_extension": ".py",
   "mimetype": "text/x-python",
   "name": "python",
   "nbconvert_exporter": "python",
   "pygments_lexer": "ipython3",
   "version": "3.9.6"
  },
  "orig_nbformat": 4
 },
 "nbformat": 4,
 "nbformat_minor": 2
}
